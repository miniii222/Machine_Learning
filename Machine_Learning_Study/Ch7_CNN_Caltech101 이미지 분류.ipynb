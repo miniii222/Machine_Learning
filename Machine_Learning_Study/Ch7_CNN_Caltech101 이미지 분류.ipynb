{
 "cells": [
  {
   "cell_type": "code",
   "execution_count": 1,
   "metadata": {},
   "outputs": [],
   "source": [
    "from PIL import Image\n",
    "import os, glob\n",
    "import numpy as np\n",
    "from sklearn.model_selection import train_test_split"
   ]
  },
  {
   "cell_type": "code",
   "execution_count": 2,
   "metadata": {},
   "outputs": [],
   "source": [
    "caltech_dir = \"./data/image/101_ObjectCategories\"\n",
    "categories = [\"chair\",\"camera\",\"butterfly\",\"elephant\",\"flamingo\"]\n",
    "nb_classes = len(categories)"
   ]
  },
  {
   "cell_type": "markdown",
   "metadata": {},
   "source": [
    "#### 이미지 크기 지정"
   ]
  },
  {
   "cell_type": "code",
   "execution_count": 4,
   "metadata": {},
   "outputs": [],
   "source": [
    "image_w = 64\n",
    "image_h = 64\n",
    "pixels = image_w * image_h*3 #64x64 픽셀 x3(RGB)"
   ]
  },
  {
   "cell_type": "markdown",
   "metadata": {},
   "source": [
    "#### 이미지 데이터 읽기"
   ]
  },
  {
   "cell_type": "code",
   "execution_count": 16,
   "metadata": {},
   "outputs": [],
   "source": [
    "X=[]\n",
    "Y=[]\n",
    "\n",
    "for idx, cat in enumerate(categories) :\n",
    "    label = [0 for i in range(nb_classes)]\n",
    "    label[idx] = 1\n",
    "    #print(label, idx, cat) ex) [1,0,0,0,0] chair\n",
    "    \n",
    "    #이미지\n",
    "    image_dir = caltech_dir+\"/\"+cat\n",
    "    files = glob.glob(image_dir+\"/*.jpg\") #확장자가 jpg인 파일 모두\n",
    "    \n",
    "    for i, f in enumerate(files) :\n",
    "        img = Image.open(f)\n",
    "        img = img.convert(\"RGB\")\n",
    "        img = img.resize((image_w, image_h))\n",
    "        \n",
    "        data = np.asarray(img)\n",
    "        \n",
    "        X.append(data)\n",
    "        Y.append(label)\n",
    "            \n",
    "X = np.array(X)\n",
    "Y = np.array(Y)"
   ]
  },
  {
   "cell_type": "markdown",
   "metadata": {},
   "source": [
    "#### train test data나누기"
   ]
  },
  {
   "cell_type": "code",
   "execution_count": 21,
   "metadata": {},
   "outputs": [],
   "source": [
    "X_train, X_test, y_train,y_test = train_test_split(X,Y)"
   ]
  },
  {
   "cell_type": "markdown",
   "metadata": {},
   "source": [
    "#### CNN으로 분류"
   ]
  },
  {
   "cell_type": "code",
   "execution_count": 19,
   "metadata": {},
   "outputs": [],
   "source": [
    "from keras.models import Sequential\n",
    "from keras.layers import Convolution2D, MaxPooling2D\n",
    "from keras.layers import Activation, Dropout, Flatten, Dense"
   ]
  },
  {
   "cell_type": "code",
   "execution_count": 42,
   "metadata": {},
   "outputs": [
    {
     "name": "stdout",
     "output_type": "stream",
     "text": [
      "X_train shape: (250, 64, 64, 3)\n",
      "X_test shape: (84, 64, 64, 3)\n"
     ]
    }
   ],
   "source": [
    "#데이터 정규화\n",
    "X_train = X_train.astype('float')/256 #250개\n",
    "X_test = X_test.astype('float')/256 #84개\n",
    "print(\"X_train shape:\", X_train.shape)\n",
    "print(\"X_test shape:\", X_test.shape)"
   ]
  },
  {
   "cell_type": "markdown",
   "metadata": {},
   "source": [
    "##### modeling"
   ]
  },
  {
   "cell_type": "code",
   "execution_count": 38,
   "metadata": {},
   "outputs": [],
   "source": [
    "model = Sequential()\n",
    "model.add(Convolution2D(filters = 32,kernel_size=(3,3),  padding = 'same',input_shape = X_train.shape[1:]))\n",
    "model.add(Activation('relu'))\n",
    "model.add(MaxPooling2D(pool_size = (2,2)))\n",
    "model.add(Dropout(0.25))\n",
    "\n",
    "model.add(Convolution2D(64,(3,3), padding='same'))\n",
    "model.add(Activation('relu'))\n",
    "model.add(Convolution2D(64,(3,3)))\n",
    "model.add(MaxPooling2D(pool_size = (2,2)))\n",
    "model.add(Dropout(0.25))\n",
    "\n",
    "model.add(Flatten())\n",
    "model.add(Dense(512))\n",
    "model.add(Activation('relu'))\n",
    "model.add(Dropout(0.5))\n",
    "model.add(Dense(nb_classes))\n",
    "model.add(Activation('softmax'))\n",
    "\n",
    "model.compile(loss = 'binary_crossentropy', optimizer = 'rmsprop', metrics = ['accuracy'])"
   ]
  },
  {
   "cell_type": "markdown",
   "metadata": {},
   "source": [
    "#### training"
   ]
  },
  {
   "cell_type": "code",
   "execution_count": 37,
   "metadata": {},
   "outputs": [
    {
     "name": "stdout",
     "output_type": "stream",
     "text": [
      "Epoch 1/50\n",
      "250/250 [==============================] - 10s 38ms/step - loss: 1.1129 - acc: 0.7544\n",
      "Epoch 2/50\n",
      "250/250 [==============================] - 7s 26ms/step - loss: 0.5218 - acc: 0.7880\n",
      "Epoch 3/50\n",
      "250/250 [==============================] - 7s 26ms/step - loss: 0.4790 - acc: 0.7992\n",
      "Epoch 4/50\n",
      "250/250 [==============================] - 6s 26ms/step - loss: 0.4404 - acc: 0.8208\n",
      "Epoch 5/50\n",
      "250/250 [==============================] - 6s 26ms/step - loss: 0.3982 - acc: 0.8208\n",
      "Epoch 6/50\n",
      "250/250 [==============================] - 7s 26ms/step - loss: 0.3586 - acc: 0.8448\n",
      "Epoch 7/50\n",
      "250/250 [==============================] - 6s 26ms/step - loss: 0.2866 - acc: 0.8864\n",
      "Epoch 8/50\n",
      "250/250 [==============================] - 7s 26ms/step - loss: 0.2466 - acc: 0.9040\n",
      "Epoch 9/50\n",
      "250/250 [==============================] - 6s 26ms/step - loss: 0.2046 - acc: 0.9144\n",
      "Epoch 10/50\n",
      "250/250 [==============================] - 6s 26ms/step - loss: 0.1354 - acc: 0.9424\n",
      "Epoch 11/50\n",
      "250/250 [==============================] - 7s 26ms/step - loss: 0.1246 - acc: 0.9520\n",
      "Epoch 12/50\n",
      "250/250 [==============================] - 7s 26ms/step - loss: 0.0753 - acc: 0.9728\n",
      "Epoch 13/50\n",
      "250/250 [==============================] - 7s 27ms/step - loss: 0.0299 - acc: 0.9928\n",
      "Epoch 14/50\n",
      "250/250 [==============================] - 7s 27ms/step - loss: 0.2044 - acc: 0.9512\n",
      "Epoch 15/50\n",
      "250/250 [==============================] - 7s 27ms/step - loss: 0.0386 - acc: 0.9880\n",
      "Epoch 16/50\n",
      "250/250 [==============================] - 7s 28ms/step - loss: 0.0117 - acc: 0.9984\n",
      "Epoch 17/50\n",
      "250/250 [==============================] - 7s 27ms/step - loss: 0.0045 - acc: 1.0000\n",
      "Epoch 18/50\n",
      "250/250 [==============================] - 6s 26ms/step - loss: 0.0042 - acc: 1.0000\n",
      "Epoch 19/50\n",
      "250/250 [==============================] - 7s 26ms/step - loss: 0.2035 - acc: 0.9752\n",
      "Epoch 20/50\n",
      "250/250 [==============================] - 7s 26ms/step - loss: 0.2410 - acc: 0.9496\n",
      "Epoch 21/50\n",
      "250/250 [==============================] - 6s 26ms/step - loss: 0.0210 - acc: 0.9920\n",
      "Epoch 22/50\n",
      "250/250 [==============================] - 7s 26ms/step - loss: 0.0089 - acc: 0.9968\n",
      "Epoch 23/50\n",
      "250/250 [==============================] - 6s 26ms/step - loss: 0.0021 - acc: 1.0000\n",
      "Epoch 24/50\n",
      "250/250 [==============================] - 7s 26ms/step - loss: 0.0414 - acc: 0.9864\n",
      "Epoch 25/50\n",
      "250/250 [==============================] - 7s 26ms/step - loss: 0.1037 - acc: 0.9720\n",
      "Epoch 26/50\n",
      "250/250 [==============================] - 7s 26ms/step - loss: 0.0116 - acc: 0.9960\n",
      "Epoch 27/50\n",
      "250/250 [==============================] - 6s 26ms/step - loss: 0.0024 - acc: 1.0000\n",
      "Epoch 28/50\n",
      "250/250 [==============================] - 6s 26ms/step - loss: 8.3607e-04 - acc: 1.0000\n",
      "Epoch 29/50\n",
      "250/250 [==============================] - 7s 27ms/step - loss: 5.1959e-04 - acc: 1.0000\n",
      "Epoch 30/50\n",
      "250/250 [==============================] - 7s 26ms/step - loss: 6.2012e-04 - acc: 1.0000\n",
      "Epoch 31/50\n",
      "250/250 [==============================] - 7s 26ms/step - loss: 6.3232e-04 - acc: 1.0000\n",
      "Epoch 32/50\n",
      "250/250 [==============================] - 6s 26ms/step - loss: 1.2874e-04 - acc: 1.0000\n",
      "Epoch 33/50\n",
      "250/250 [==============================] - 7s 27ms/step - loss: 2.7989e-04 - acc: 1.0000\n",
      "Epoch 34/50\n",
      "250/250 [==============================] - 7s 28ms/step - loss: 0.2670 - acc: 0.9528\n",
      "Epoch 35/50\n",
      "250/250 [==============================] - 7s 28ms/step - loss: 0.0025 - acc: 1.0000\n",
      "Epoch 36/50\n",
      "250/250 [==============================] - 6s 25ms/step - loss: 0.0014 - acc: 1.0000\n",
      "Epoch 37/50\n",
      "250/250 [==============================] - 6s 24ms/step - loss: 6.6745e-04 - acc: 1.0000\n",
      "Epoch 38/50\n",
      "250/250 [==============================] - 6s 25ms/step - loss: 3.4967e-04 - acc: 1.0000\n",
      "Epoch 39/50\n",
      "250/250 [==============================] - 6s 24ms/step - loss: 6.2964e-04 - acc: 1.0000\n",
      "Epoch 40/50\n",
      "250/250 [==============================] - 6s 26ms/step - loss: 0.0016 - acc: 1.0000\n",
      "Epoch 41/50\n",
      "250/250 [==============================] - 6s 25ms/step - loss: 1.4367e-04 - acc: 1.0000\n",
      "Epoch 42/50\n",
      "250/250 [==============================] - 6s 23ms/step - loss: 0.0128 - acc: 0.9968\n",
      "Epoch 43/50\n",
      "250/250 [==============================] - 6s 25ms/step - loss: 0.0132 - acc: 0.9984\n",
      "Epoch 44/50\n",
      "250/250 [==============================] - 7s 26ms/step - loss: 0.0021 - acc: 0.9984\n",
      "Epoch 45/50\n",
      "250/250 [==============================] - 7s 27ms/step - loss: 4.0271e-04 - acc: 1.0000\n",
      "Epoch 46/50\n",
      "250/250 [==============================] - 7s 27ms/step - loss: 4.9717e-04 - acc: 1.0000\n",
      "Epoch 47/50\n",
      "250/250 [==============================] - 6s 26ms/step - loss: 9.9259e-05 - acc: 1.0000\n",
      "Epoch 48/50\n",
      "250/250 [==============================] - 7s 26ms/step - loss: 7.1564e-05 - acc: 1.0000\n",
      "Epoch 49/50\n",
      "250/250 [==============================] - 7s 27ms/step - loss: 0.0919 - acc: 0.9832\n",
      "Epoch 50/50\n",
      "250/250 [==============================] - 7s 26ms/step - loss: 0.2266 - acc: 0.9536\n"
     ]
    },
    {
     "data": {
      "text/plain": [
       "<keras.callbacks.History at 0x1a832d94048>"
      ]
     },
     "execution_count": 37,
     "metadata": {},
     "output_type": "execute_result"
    }
   ],
   "source": [
    "model.fit(X_train, y_train, batch_size = 32, epochs=50)"
   ]
  },
  {
   "cell_type": "markdown",
   "metadata": {},
   "source": [
    "#### model test"
   ]
  },
  {
   "cell_type": "code",
   "execution_count": 39,
   "metadata": {},
   "outputs": [
    {
     "name": "stdout",
     "output_type": "stream",
     "text": [
      "84/84 [==============================] - 1s 14ms/step\n",
      "loss 0.5052914718786875\n",
      "accuracy 0.800000011920929\n"
     ]
    }
   ],
   "source": [
    "score = model.evaluate(X_test, y_test)\n",
    "print('loss', score[0])\n",
    "print('accuracy', score[1])"
   ]
  },
  {
   "cell_type": "code",
   "execution_count": 44,
   "metadata": {},
   "outputs": [
    {
     "data": {
      "text/plain": [
       "array([[0.20021439, 0.19997953, 0.19992296, 0.20002036, 0.19986278],\n",
       "       [0.20020321, 0.20002335, 0.19988987, 0.1999705 , 0.1999131 ],\n",
       "       [0.20021214, 0.20002402, 0.19989094, 0.19998041, 0.19989246],\n",
       "       [0.20029922, 0.19999154, 0.19992146, 0.19996373, 0.19982402],\n",
       "       [0.20015404, 0.20004293, 0.19996516, 0.19993195, 0.19990586],\n",
       "       [0.20022047, 0.19998151, 0.19995967, 0.19991297, 0.1999255 ],\n",
       "       [0.20027465, 0.1999446 , 0.19995582, 0.19996391, 0.19986098],\n",
       "       [0.20023803, 0.19992854, 0.19993496, 0.20002617, 0.19987231],\n",
       "       [0.20019175, 0.19998994, 0.19990517, 0.20002583, 0.19988728],\n",
       "       [0.2002375 , 0.19996822, 0.20000176, 0.19996297, 0.19982953]],\n",
       "      dtype=float32)"
      ]
     },
     "execution_count": 44,
     "metadata": {},
     "output_type": "execute_result"
    }
   ],
   "source": [
    "pre = model.predict(X_test)\n",
    "pre[:10]"
   ]
  },
  {
   "cell_type": "code",
   "execution_count": 45,
   "metadata": {},
   "outputs": [
    {
     "data": {
      "text/plain": [
       "(84, 5)"
      ]
     },
     "execution_count": 45,
     "metadata": {},
     "output_type": "execute_result"
    }
   ],
   "source": [
    "pre.shape"
   ]
  },
  {
   "cell_type": "code",
   "execution_count": 59,
   "metadata": {},
   "outputs": [
    {
     "name": "stdout",
     "output_type": "stream",
     "text": [
      "[NG] chair != butterfly\n",
      "[0.20021439 0.19997953 0.19992296 0.20002036 0.19986278]\n",
      "[NG] chair != flamingo\n",
      "[0.20020321 0.20002335 0.19988987 0.1999705  0.1999131 ]\n",
      "[NG] chair != elephant\n",
      "[0.20021214 0.20002402 0.19989094 0.19998041 0.19989246]\n",
      "[NG] chair != camera\n",
      "[0.20029922 0.19999154 0.19992146 0.19996373 0.19982402]\n",
      "[NG] chair != flamingo\n",
      "[0.20015404 0.20004293 0.19996516 0.19993195 0.19990586]\n",
      "[NG] chair != flamingo\n",
      "[0.20022047 0.19998151 0.19995967 0.19991297 0.1999255 ]\n",
      "[NG] chair != elephant\n",
      "[0.20019175 0.19998994 0.19990517 0.20002583 0.19988728]\n",
      "[NG] chair != butterfly\n",
      "[0.2002375  0.19996822 0.20000176 0.19996297 0.19982953]\n",
      "[NG] chair != elephant\n",
      "[0.20016912 0.2000547  0.19991282 0.19997156 0.19989182]\n",
      "[NG] chair != flamingo\n",
      "[0.20029204 0.19999243 0.19991404 0.20000957 0.19979195]\n",
      "[NG] chair != camera\n",
      "[0.20025784 0.20000619 0.19989909 0.20000196 0.19983494]\n",
      "[NG] chair != butterfly\n",
      "[0.20021549 0.20000152 0.1999387  0.19994338 0.19990082]\n",
      "[NG] chair != flamingo\n",
      "[0.20025474 0.19992132 0.20000523 0.19995776 0.19986093]\n",
      "[NG] chair != elephant\n",
      "[0.20014758 0.1999419  0.20005016 0.19996472 0.19989564]\n",
      "[NG] chair != flamingo\n",
      "[0.20012617 0.19995332 0.19991913 0.19999404 0.20000733]\n",
      "[NG] chair != flamingo\n",
      "[0.20014702 0.19994812 0.20004787 0.19993547 0.1999215 ]\n",
      "[NG] chair != butterfly\n",
      "[0.20032065 0.19997668 0.19989985 0.19997773 0.19982506]\n",
      "[NG] chair != flamingo\n",
      "[0.20030046 0.19998209 0.19991145 0.19999619 0.19980983]\n",
      "[NG] chair != elephant\n",
      "[0.20021147 0.19998495 0.19992392 0.19995819 0.19992147]\n",
      "[NG] chair != elephant\n",
      "[0.20013227 0.1999545  0.19997482 0.20000899 0.19992946]\n",
      "[NG] chair != butterfly\n",
      "[0.20024365 0.20001474 0.19993167 0.19996329 0.19984663]\n",
      "[NG] chair != elephant\n",
      "[0.20008442 0.20003211 0.19997056 0.19996914 0.19994374]\n",
      "[NG] chair != butterfly\n",
      "[0.20014547 0.19992767 0.20001443 0.2000258  0.1998866 ]\n",
      "[NG] chair != butterfly\n",
      "[0.20023133 0.20001057 0.19989638 0.19999866 0.19986308]\n",
      "[NG] chair != flamingo\n",
      "[0.20020063 0.19997704 0.19996211 0.19998163 0.19987865]\n",
      "[NG] chair != flamingo\n",
      "[0.20016447 0.19997957 0.19998261 0.19995509 0.19991821]\n",
      "[NG] chair != butterfly\n",
      "[0.20027757 0.19997332 0.19996406 0.20002536 0.19975972]\n",
      "[NG] chair != butterfly\n",
      "[0.2001904  0.2000462  0.19989942 0.20002031 0.19984356]\n",
      "[NG] chair != elephant\n",
      "[0.20014237 0.20000586 0.19990115 0.20000997 0.19994058]\n",
      "[NG] chair != camera\n",
      "[0.20031373 0.19998768 0.19989082 0.19997256 0.19983517]\n",
      "[NG] chair != elephant\n",
      "[0.20010851 0.20009755 0.19992906 0.1999792  0.1998857 ]\n",
      "[NG] chair != camera\n",
      "[0.20012458 0.20001513 0.20000611 0.1999494  0.19990477]\n",
      "[NG] chair != flamingo\n",
      "[0.20022696 0.19998308 0.19992521 0.19997992 0.19988486]\n",
      "[NG] chair != butterfly\n",
      "[0.20006707 0.20000432 0.20000397 0.19998349 0.19994114]\n",
      "[NG] chair != flamingo\n",
      "[0.20017406 0.20001087 0.1999593  0.19997677 0.19987902]\n",
      "[NG] chair != flamingo\n",
      "[0.20030935 0.19997425 0.19993913 0.2000249  0.19975233]\n",
      "[NG] chair != elephant\n",
      "[0.20015492 0.19997367 0.19995509 0.19999675 0.19991952]\n",
      "[NG] chair != butterfly\n",
      "[0.20020185 0.19996668 0.1999807  0.199951   0.19989978]\n",
      "[NG] chair != flamingo\n",
      "[0.20016046 0.20003493 0.19995151 0.19995224 0.19990082]\n",
      "[NG] chair != flamingo\n",
      "[0.2001562  0.20001237 0.19994466 0.19996591 0.19992085]\n",
      "[NG] chair != butterfly\n",
      "[0.2001375  0.20004123 0.19995409 0.19999057 0.19987649]\n",
      "[NG] chair != butterfly\n",
      "[0.20025189 0.1999748  0.19992664 0.19998473 0.19986191]\n",
      "[NG] chair != elephant\n",
      "[0.20022304 0.1999768  0.19992626 0.1999767  0.1998972 ]\n",
      "[NG] chair != camera\n",
      "[0.20019546 0.19998232 0.19990912 0.19997992 0.19993314]\n",
      "[NG] chair != butterfly\n",
      "[0.20028293 0.19997804 0.19995022 0.19998603 0.19980282]\n",
      "[NG] chair != elephant\n",
      "[0.20008026 0.20001474 0.19996665 0.19994901 0.19998929]\n",
      "[NG] chair != butterfly\n",
      "[0.20026074 0.19997591 0.19992289 0.1999968  0.1998436 ]\n",
      "[NG] chair != elephant\n",
      "[0.20019117 0.20001042 0.19994797 0.19997366 0.19987677]\n",
      "[NG] chair != butterfly\n",
      "[0.20011021 0.20003551 0.1999516  0.19999516 0.19990757]\n",
      "[NG] chair != flamingo\n",
      "[0.20010036 0.19996515 0.20005168 0.19986556 0.20001721]\n",
      "[NG] chair != camera\n",
      "[0.20028368 0.20001036 0.19990626 0.19995315 0.19984657]\n",
      "[NG] chair != butterfly\n",
      "[0.20008981 0.19997662 0.19998497 0.19997753 0.19997104]\n",
      "[NG] chair != butterfly\n",
      "[0.20028332 0.19999605 0.19991308 0.19997019 0.1998373 ]\n",
      "[NG] chair != butterfly\n",
      "[0.20022397 0.20003831 0.199925   0.19998069 0.19983207]\n",
      "[NG] chair != elephant\n",
      "[0.20024037 0.20002717 0.19990112 0.2000461  0.19978528]\n",
      "[NG] chair != flamingo\n",
      "[0.20009205 0.19999285 0.2000315  0.19988109 0.2000025 ]\n",
      "[NG] chair != elephant\n",
      "[0.20020573 0.20003505 0.19990186 0.20004019 0.19981717]\n",
      "[NG] chair != butterfly\n",
      "[0.20026687 0.19997    0.19990303 0.19999412 0.1998659 ]\n",
      "[NG] chair != camera\n",
      "[0.20032966 0.19994885 0.19993824 0.19996724 0.19981599]\n",
      "[NG] chair != butterfly\n",
      "[0.20019437 0.19997804 0.19992585 0.19996041 0.1999413 ]\n",
      "[NG] chair != flamingo\n",
      "[0.20008075 0.20004271 0.19994874 0.19999443 0.19993332]\n",
      "[NG] chair != camera\n",
      "[0.20017946 0.19999965 0.19997895 0.199992   0.19985002]\n",
      "[NG] chair != camera\n",
      "[0.20020823 0.20002349 0.19995648 0.19993687 0.19987486]\n",
      "[NG] chair != camera\n",
      "[0.20034131 0.19997817 0.19987646 0.19998425 0.19981982]\n",
      "[NG] chair != butterfly\n",
      "[0.2001521  0.20001666 0.19993655 0.1999646  0.19993015]\n",
      "[NG] chair != camera\n",
      "[0.20027019 0.19997673 0.19990706 0.19997501 0.19987093]\n",
      "[NG] chair != camera\n",
      "[0.20020731 0.19999456 0.19993572 0.20001072 0.19985165]\n",
      "[NG] chair != elephant\n",
      "[0.20009845 0.20004417 0.19992079 0.20005283 0.19988377]\n",
      "[NG] chair != camera\n",
      "[0.20030303 0.20000263 0.19992152 0.19995485 0.19981793]\n",
      "[NG] chair != butterfly\n",
      "[0.20023754 0.19998384 0.19991243 0.20001692 0.1998493 ]\n",
      "[NG] chair != butterfly\n",
      "[0.20021392 0.19998175 0.19994177 0.19992691 0.19993559]\n"
     ]
    }
   ],
   "source": [
    "for i,v in enumerate(pre) :\n",
    "    pred = v.argmax() #예측한 값\n",
    "    ans = y_test[i].argmax() #정답\n",
    "    dat = X_test[i] #이미지데이터\n",
    "    \n",
    "    #예측값과 정답이 같으면 그냥 지나갈 것\n",
    "    if ans ==pred :continue \n",
    "        \n",
    "    print(\"[NG]\", categories[pred], \"!=\", categories[ans])\n",
    "    print(v)"
   ]
  }
 ],
 "metadata": {
  "kernelspec": {
   "display_name": "Python 3",
   "language": "python",
   "name": "python3"
  },
  "language_info": {
   "codemirror_mode": {
    "name": "ipython",
    "version": 3
   },
   "file_extension": ".py",
   "mimetype": "text/x-python",
   "name": "python",
   "nbconvert_exporter": "python",
   "pygments_lexer": "ipython3",
   "version": "3.6.5"
  }
 },
 "nbformat": 4,
 "nbformat_minor": 2
}
