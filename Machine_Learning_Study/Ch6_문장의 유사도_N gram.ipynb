{
 "cells": [
  {
   "cell_type": "markdown",
   "metadata": {},
   "source": [
    "### 레벤슈타인 거리(Leeveeenshtein distanc)\n",
    "- 두 개의 문자열이 어느 정도 다른지를 나타냄.\n",
    "- 일명 편집거리(Edit Distance)\n",
    "- 몇 번의 문자열 조작이 필요한지 주목"
   ]
  },
  {
   "cell_type": "markdown",
   "metadata": {},
   "source": [
    "#### 거리 구하기"
   ]
  },
  {
   "cell_type": "code",
   "execution_count": 18,
   "metadata": {},
   "outputs": [
    {
     "data": {
      "text/plain": [
       "[[0, 1, 2, 3, 4],\n",
       " [1, 0, 0, 0, 0],\n",
       " [2, 0, 0, 0, 0],\n",
       " [3, 0, 0, 0, 0],\n",
       " [4, 0, 0, 0, 0]]"
      ]
     },
     "execution_count": 18,
     "metadata": {},
     "output_type": "execute_result"
    }
   ],
   "source": [
    "matrix = [[] for i in range(4+1)]\n",
    "for i in range(4+1) : #0으로\n",
    "    matrix[i] = [0 for j in range(4+1)]\n",
    "        \n",
    "for i in range(4 +1) :\n",
    "    matrix[i][0] = i\n",
    "for j in range(4 +1) :\n",
    "    matrix[0][j] = j\n",
    "\n",
    "matrix"
   ]
  },
  {
   "cell_type": "code",
   "execution_count": 23,
   "metadata": {},
   "outputs": [],
   "source": [
    "def calc_distance(a,b) :\n",
    "    if a==b :\n",
    "        return 0\n",
    "    \n",
    "    a_len = len(a); b_len = len(b)\n",
    "    \n",
    "    if a == \"\" :\n",
    "        return b_len\n",
    "    if b==\"\" :\n",
    "        return a_len\n",
    "    \n",
    "    #2차원 표(a_len+1, b+len+1) 준비\n",
    "    matrix = [[] for i in range(a_len+1)]\n",
    "    for i in range(a_len+1) : #0으로\n",
    "        matrix[i] = [0 for j in range(b_len+1)]\n",
    "        \n",
    "    for i in range(a_len +1) :\n",
    "        matrix[i][0] = i\n",
    "    for j in range(b_len +1) :\n",
    "        matrix[0][j] = j\n",
    "      \n",
    "    # 표 채우기 \n",
    "    for i in range(1, a_len+1):\n",
    "        ac = a[i-1]\n",
    "        for j in range(1, b_len+1):\n",
    "            bc = b[j-1]\n",
    "            cost = 0 if (ac == bc) else 1\n",
    "            matrix[i][j] = min([\n",
    "                matrix[i-1][j] + 1,     # 문자 삽입\n",
    "                matrix[i][j-1] + 1,     # 문자 제거\n",
    "                matrix[i-1][j-1] + cost # 문자 변경\n",
    "            ])\n",
    "            \n",
    "\n",
    "    return matrix[a_len][b_len]"
   ]
  },
  {
   "cell_type": "markdown",
   "metadata": {},
   "source": [
    "##### '가나다라' 와 '가마바라'의 거리"
   ]
  },
  {
   "cell_type": "code",
   "execution_count": 24,
   "metadata": {},
   "outputs": [
    {
     "name": "stdout",
     "output_type": "stream",
     "text": [
      "2\n"
     ]
    }
   ],
   "source": [
    "print(calc_distance(\"가나다라\",\"가마바라\"))"
   ]
  },
  {
   "cell_type": "code",
   "execution_count": 25,
   "metadata": {},
   "outputs": [
    {
     "name": "stdout",
     "output_type": "stream",
     "text": [
      "1\n"
     ]
    }
   ],
   "source": [
    "print(calc_distance(\"신촌역\",\"신천역\"))"
   ]
  },
  {
   "cell_type": "markdown",
   "metadata": {},
   "source": [
    "### N-gram 유사도 구하기\n",
    "- 이웃한 N개의 문자\n",
    "- 서로 다른 2개의 문장을 비교하여 출현하는 단어의 종류와 빈도를 확인\n",
    "- 논문 도용 등 확인"
   ]
  },
  {
   "cell_type": "code",
   "execution_count": 32,
   "metadata": {},
   "outputs": [],
   "source": [
    "def ngram(s, num) :\n",
    "    res = []\n",
    "    slen = len(s) - num +1 #끊어 읽으면 몇 개로 잘리는지\n",
    "    \n",
    "    for i in range(slen) :\n",
    "        ss = s[i :i+num]\n",
    "        res.append(ss)\n",
    "    return res\n",
    "\n",
    "def diff_ngram(sa,sb,num) :\n",
    "    a = ngram(sa, num)\n",
    "    b = ngram(sb, num)\n",
    "    \n",
    "    r = []\n",
    "    cnt = 0\n",
    "    \n",
    "    for i in a :\n",
    "        for j in b :\n",
    "            if i==j :\n",
    "                cnt += 1 #sa라는 문자열과 sb라는 문자열을 n개씩 나눈 후, 모든 경우를 살피면서 같은 것이 몇 갠지 저장\n",
    "                r.append(i) #같은 문자열 저장\n",
    "                \n",
    "    #a의 길이 대비 같은 개수와 같은 문자열 리턴            \n",
    "    return cnt / len(a), r "
   ]
  },
  {
   "cell_type": "code",
   "execution_count": 37,
   "metadata": {},
   "outputs": [
    {
     "name": "stdout",
     "output_type": "stream",
     "text": [
      "2-gram: 0.7619047619047619 ['오늘', '강남', '남에', '에서', '서 ', ' 맛', '맛있', '는 ', ' 스', '스파', '파게', '게티', ' 먹', '먹었', '었다', '다.']\n",
      "3-gram: 0.45 ['강남에', '남에서', '에서 ', ' 맛있', ' 스파', '스파게', '파게티', ' 먹었', '었다.']\n"
     ]
    }
   ],
   "source": [
    "a = \"오늘 강남에서 맛있는 스파게티를 먹었다.\"\n",
    "b = \"강남에서 먹었던 오늘의 스파게티는 맛있었다.\"\n",
    "# 2-gram\n",
    "r2, word2 = diff_ngram(a, b, 2)\n",
    "print(\"2-gram:\", r2, word2)\n",
    "\n",
    "# 3-gram\n",
    "r3, word3  = diff_ngram(a, b, 3)\n",
    "print(\"3-gram:\", r3, word3)"
   ]
  },
  {
   "cell_type": "code",
   "execution_count": 38,
   "metadata": {},
   "outputs": [
    {
     "name": "stdout",
     "output_type": "stream",
     "text": [
      "2-gram: 0.75 ['머신', '신러', '러닝', ' 재', '재미', '미있', '있는', '는 ', ' 기', '기술', '술이', '이라', '라 ', '공부', '부하', '고 ', ' 있', '있습', '습니', '니다', '다.']\n",
      "3-gram: 0.6296296296296297 ['머신러', '신러닝', ' 재미', '재미있', '미있는', '있는 ', '는 기', ' 기술', '기술이', '술이라', '이라 ', '공부하', '고 있', ' 있습', '있습니', '습니다', '니다.']\n"
     ]
    }
   ],
   "source": [
    "a = \"머신러닝은 매우 재미있는 기술이라 공부하고 있습니다.\"\n",
    "b = \"공부하면 재미있는 기술이라 머신러닝을 배우고 있습니다.\"\n",
    "# 2-gram\n",
    "r2, word2 = diff_ngram(a, b, 2)\n",
    "print(\"2-gram:\", r2, word2)\n",
    "\n",
    "# 3-gram\n",
    "r3, word3  = diff_ngram(a, b, 3)\n",
    "print(\"3-gram:\", r3, word3)"
   ]
  },
  {
   "cell_type": "code",
   "execution_count": 39,
   "metadata": {},
   "outputs": [
    {
     "name": "stdout",
     "output_type": "stream",
     "text": [
      "2-gram: 0.125 ['한 ', '니다', '다.']\n",
      "3-gram: 0.043478260869565216 ['니다.']\n"
     ]
    }
   ],
   "source": [
    "a = \"파이썬 프로그래밍에서 중요한 것은 블록입니다.\"\n",
    "b = \"겨울에는 충분한 수분을 보충해야 합니다..\"\n",
    "# 2-gram\n",
    "r2, word2 = diff_ngram(a, b, 2)\n",
    "print(\"2-gram:\", r2, word2)\n",
    "\n",
    "# 3-gram\n",
    "r3, word3  = diff_ngram(a, b, 3)\n",
    "print(\"3-gram:\", r3, word3)"
   ]
  },
  {
   "cell_type": "code",
   "execution_count": null,
   "metadata": {},
   "outputs": [],
   "source": []
  }
 ],
 "metadata": {
  "kernelspec": {
   "display_name": "Python 3",
   "language": "python",
   "name": "python3"
  },
  "language_info": {
   "codemirror_mode": {
    "name": "ipython",
    "version": 3
   },
   "file_extension": ".py",
   "mimetype": "text/x-python",
   "name": "python",
   "nbconvert_exporter": "python",
   "pygments_lexer": "ipython3",
   "version": "3.6.5"
  }
 },
 "nbformat": 4,
 "nbformat_minor": 2
}
