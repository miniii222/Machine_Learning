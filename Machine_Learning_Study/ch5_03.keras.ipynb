{
 "cells": [
  {
   "cell_type": "code",
   "execution_count": 2,
   "metadata": {},
   "outputs": [],
   "source": [
    "from keras.datasets import mnist\n",
    "from keras.models import Sequential\n",
    "from keras.layers.core import Dense,Dropout, Activation\n",
    "from keras.optimizers import Adam\n",
    "from keras.utils import np_utils"
   ]
  },
  {
   "cell_type": "markdown",
   "metadata": {},
   "source": [
    "# MNIST"
   ]
  },
  {
   "cell_type": "code",
   "execution_count": 5,
   "metadata": {},
   "outputs": [
    {
     "name": "stdout",
     "output_type": "stream",
     "text": [
      "Extracting C:/Users/wjssm/Desktop/0.graduate/2nd/fiancial engineering/MNIST_data\\train-images-idx3-ubyte.gz\n",
      "Extracting C:/Users/wjssm/Desktop/0.graduate/2nd/fiancial engineering/MNIST_data\\train-labels-idx1-ubyte.gz\n",
      "Extracting C:/Users/wjssm/Desktop/0.graduate/2nd/fiancial engineering/MNIST_data\\t10k-images-idx3-ubyte.gz\n",
      "Extracting C:/Users/wjssm/Desktop/0.graduate/2nd/fiancial engineering/MNIST_data\\t10k-labels-idx1-ubyte.gz\n"
     ]
    }
   ],
   "source": [
    "from tensorflow.examples.tutorials.mnist import input_data\n",
    "mnist = input_data.read_data_sets(\"C:/Users/wjssm/Desktop/0.graduate/2nd/fiancial engineering/MNIST_data\", one_hot=True)"
   ]
  },
  {
   "cell_type": "code",
   "execution_count": 7,
   "metadata": {},
   "outputs": [],
   "source": [
    "X_train = mnist.train.images\n",
    "y_train = mnist.train.labels\n",
    "X_test = mnist.test.images\n",
    "y_test = mnist.test.labels"
   ]
  },
  {
   "cell_type": "markdown",
   "metadata": {},
   "source": [
    "### 모델 구조 정의"
   ]
  },
  {
   "cell_type": "code",
   "execution_count": 10,
   "metadata": {},
   "outputs": [],
   "source": [
    "model = Sequential()\n",
    "\n",
    "model.add(Dense(512, input_shape = (784,)))\n",
    "model.add(Activation('relu'))\n",
    "model.add(Dropout(0.2))\n",
    "model.add(Dense(512))\n",
    "model.add(Activation('relu'))\n",
    "model.add(Dropout(0.2))\n",
    "model.add(Dense(10))\n",
    "model.add(Activation('softmax'))"
   ]
  },
  {
   "cell_type": "markdown",
   "metadata": {},
   "source": [
    "### 모델 구축하기"
   ]
  },
  {
   "cell_type": "code",
   "execution_count": 11,
   "metadata": {},
   "outputs": [],
   "source": [
    "model.compile(\n",
    "    loss = 'categorical_crossentropy',\n",
    "    optimizer = Adam(),\n",
    "    metrics=['accuracy'])"
   ]
  },
  {
   "cell_type": "markdown",
   "metadata": {},
   "source": [
    "### 모델 훈련하기"
   ]
  },
  {
   "cell_type": "code",
   "execution_count": 12,
   "metadata": {},
   "outputs": [
    {
     "name": "stdout",
     "output_type": "stream",
     "text": [
      "Epoch 1/1\n",
      "55000/55000 [==============================] - 35s 632us/step - loss: 0.2248 - acc: 0.9307\n"
     ]
    }
   ],
   "source": [
    "hist = model.fit(X_train, y_train)"
   ]
  },
  {
   "cell_type": "markdown",
   "metadata": {},
   "source": [
    "### 평가하기"
   ]
  },
  {
   "cell_type": "code",
   "execution_count": 14,
   "metadata": {},
   "outputs": [
    {
     "name": "stdout",
     "output_type": "stream",
     "text": [
      "10000/10000 [==============================] - 1s 86us/step\n",
      "loss =  0.09950815733345225\n",
      "accurcay =  0.9687\n"
     ]
    }
   ],
   "source": [
    "score = model.evaluate(X_test, y_test, verbose = 1)\n",
    "print('loss = ',score[0])\n",
    "print('accurcay = ',score[1])"
   ]
  },
  {
   "cell_type": "markdown",
   "metadata": {},
   "source": [
    "# BMI data"
   ]
  },
  {
   "cell_type": "code",
   "execution_count": 16,
   "metadata": {},
   "outputs": [],
   "source": [
    "import numpy as np\n",
    "import pandas as pd"
   ]
  },
  {
   "cell_type": "code",
   "execution_count": 18,
   "metadata": {},
   "outputs": [],
   "source": [
    "csv = pd.read_csv('./ex_code/ch5/bmi.csv')\n",
    "csv['weight'] /=100\n",
    "csv['height'] /=200"
   ]
  },
  {
   "cell_type": "code",
   "execution_count": 23,
   "metadata": {},
   "outputs": [
    {
     "name": "stderr",
     "output_type": "stream",
     "text": [
      "C:\\Users\\wjssm\\Anaconda3\\lib\\site-packages\\ipykernel_launcher.py:1: FutureWarning: Method .as_matrix will be removed in a future version. Use .values instead.\n",
      "  \"\"\"Entry point for launching an IPython kernel.\n"
     ]
    },
    {
     "data": {
      "text/plain": [
       "array([[0.62 , 0.71 ],\n",
       "       [0.73 , 0.71 ],\n",
       "       [0.61 , 0.885],\n",
       "       ...,\n",
       "       [0.37 , 0.965],\n",
       "       [0.51 , 0.975],\n",
       "       [0.67 , 0.815]])"
      ]
     },
     "execution_count": 23,
     "metadata": {},
     "output_type": "execute_result"
    }
   ],
   "source": [
    "X = csv[['weight','height']].as_matrix()\n",
    "X"
   ]
  },
  {
   "cell_type": "code",
   "execution_count": 24,
   "metadata": {},
   "outputs": [],
   "source": [
    "bclass = {'thin' : [1,0,0], 'normal' : [0,1,0], 'fat' : [0,0,1]}"
   ]
  },
  {
   "cell_type": "code",
   "execution_count": 27,
   "metadata": {},
   "outputs": [],
   "source": [
    "y = np.empty((20000,3))"
   ]
  },
  {
   "cell_type": "code",
   "execution_count": 28,
   "metadata": {},
   "outputs": [],
   "source": [
    "for i,v in enumerate(csv['label']) :\n",
    "    y[i] = bclass[v]"
   ]
  },
  {
   "cell_type": "code",
   "execution_count": 29,
   "metadata": {},
   "outputs": [],
   "source": [
    "X_train, y_train = X[1:15001], y[1:15001]\n",
    "X_test, y_test = X[15001:20001], y[15001:20001]"
   ]
  },
  {
   "cell_type": "code",
   "execution_count": 41,
   "metadata": {},
   "outputs": [],
   "source": [
    "model = Sequential()\n",
    "model.add(Dense(512, input_shape = (2,)))\n",
    "model.add(Activation('relu'))\n",
    "model.add(Dropout(0.1))"
   ]
  },
  {
   "cell_type": "code",
   "execution_count": 42,
   "metadata": {},
   "outputs": [],
   "source": [
    "model.add(Dense(512))\n",
    "model.add(Activation('relu'))\n",
    "model.add(Dropout(0.1))"
   ]
  },
  {
   "cell_type": "code",
   "execution_count": 43,
   "metadata": {},
   "outputs": [],
   "source": [
    "model.add(Dense(3))\n",
    "model.add(Activation('softmax'))"
   ]
  },
  {
   "cell_type": "markdown",
   "metadata": {},
   "source": [
    "### 모델 구축하기"
   ]
  },
  {
   "cell_type": "code",
   "execution_count": 44,
   "metadata": {},
   "outputs": [],
   "source": [
    "model.compile(\n",
    "    loss = 'categorical_crossentropy',\n",
    "    optimizer = 'rmsprop',\n",
    "    metrics = ['accuracy'])"
   ]
  },
  {
   "cell_type": "markdown",
   "metadata": {},
   "source": [
    "### 모델 훈련하기"
   ]
  },
  {
   "cell_type": "code",
   "execution_count": 48,
   "metadata": {},
   "outputs": [
    {
     "name": "stdout",
     "output_type": "stream",
     "text": [
      "Train on 13500 samples, validate on 1500 samples\n",
      "Epoch 1/20\n",
      " 1700/13500 [==>...........................] - ETA: 1s - loss: 0.2353 - acc: 0.9106"
     ]
    },
    {
     "name": "stderr",
     "output_type": "stream",
     "text": [
      "C:\\Users\\wjssm\\Anaconda3\\lib\\site-packages\\ipykernel_launcher.py:6: UserWarning: The `nb_epoch` argument in `fit` has been renamed `epochs`.\n",
      "  \n"
     ]
    },
    {
     "name": "stdout",
     "output_type": "stream",
     "text": [
      "13500/13500 [==============================] - 2s 121us/step - loss: 0.2104 - acc: 0.9150 - val_loss: 0.2359 - val_acc: 0.8787\n",
      "Epoch 2/20\n",
      "13500/13500 [==============================] - 1s 108us/step - loss: 0.1768 - acc: 0.9237 - val_loss: 0.1449 - val_acc: 0.9467\n",
      "Epoch 3/20\n",
      "13500/13500 [==============================] - 1s 107us/step - loss: 0.1561 - acc: 0.9315 - val_loss: 0.1174 - val_acc: 0.9433\n",
      "Epoch 4/20\n",
      "13500/13500 [==============================] - 2s 115us/step - loss: 0.1434 - acc: 0.9378 - val_loss: 0.1465 - val_acc: 0.9280\n",
      "Epoch 5/20\n",
      "13500/13500 [==============================] - 1s 106us/step - loss: 0.1363 - acc: 0.9409 - val_loss: 0.2787 - val_acc: 0.8687\n",
      "Epoch 6/20\n",
      "13500/13500 [==============================] - 2s 113us/step - loss: 0.1327 - acc: 0.9415 - val_loss: 0.1007 - val_acc: 0.9520\n",
      "Epoch 7/20\n",
      "13500/13500 [==============================] - 2s 116us/step - loss: 0.1250 - acc: 0.9477 - val_loss: 0.2215 - val_acc: 0.8960\n",
      "Epoch 8/20\n",
      "13500/13500 [==============================] - 2s 121us/step - loss: 0.1210 - acc: 0.9479 - val_loss: 0.0606 - val_acc: 0.9907\n",
      "Epoch 9/20\n",
      "13500/13500 [==============================] - 2s 113us/step - loss: 0.1179 - acc: 0.9492 - val_loss: 0.1185 - val_acc: 0.9413\n",
      "Epoch 10/20\n",
      "13500/13500 [==============================] - 2s 117us/step - loss: 0.1192 - acc: 0.9481 - val_loss: 0.0548 - val_acc: 0.9933\n",
      "Epoch 11/20\n",
      "13500/13500 [==============================] - 2s 121us/step - loss: 0.1148 - acc: 0.9502 - val_loss: 0.1584 - val_acc: 0.9227\n",
      "Epoch 12/20\n",
      "13500/13500 [==============================] - 1s 110us/step - loss: 0.1095 - acc: 0.9531 - val_loss: 0.0516 - val_acc: 0.9913\n",
      "Epoch 13/20\n",
      "13500/13500 [==============================] - 2s 115us/step - loss: 0.1069 - acc: 0.9529 - val_loss: 0.0579 - val_acc: 0.9800\n",
      "Epoch 14/20\n",
      "13500/13500 [==============================] - 2s 117us/step - loss: 0.1113 - acc: 0.9526 - val_loss: 0.0943 - val_acc: 0.9567\n",
      "Epoch 15/20\n",
      "13500/13500 [==============================] - 2s 119us/step - loss: 0.1000 - acc: 0.9573 - val_loss: 0.0532 - val_acc: 0.9833\n",
      "Epoch 16/20\n",
      "13500/13500 [==============================] - 2s 118us/step - loss: 0.1049 - acc: 0.9541 - val_loss: 0.1323 - val_acc: 0.9333\n",
      "Epoch 17/20\n",
      "13500/13500 [==============================] - 2s 120us/step - loss: 0.1059 - acc: 0.9554 - val_loss: 0.0838 - val_acc: 0.9573\n",
      "Epoch 18/20\n",
      "13500/13500 [==============================] - 2s 113us/step - loss: 0.1038 - acc: 0.9550 - val_loss: 0.0531 - val_acc: 0.9793\n",
      "Epoch 19/20\n",
      "13500/13500 [==============================] - 2s 113us/step - loss: 0.0921 - acc: 0.9624 - val_loss: 0.0731 - val_acc: 0.9680\n",
      "Epoch 20/20\n",
      "13500/13500 [==============================] - 2s 118us/step - loss: 0.0994 - acc: 0.9579 - val_loss: 0.0524 - val_acc: 0.9827\n"
     ]
    }
   ],
   "source": [
    "hist = model.fit(\n",
    "    X_train, y_train,\n",
    "    batch_size = 100,\n",
    "    nb_epoch = 20,\n",
    "    validation_split = 0.1,\n",
    "    verbose=1\n",
    ")"
   ]
  },
  {
   "cell_type": "markdown",
   "metadata": {},
   "source": [
    "### 모델 평가 with test data"
   ]
  },
  {
   "cell_type": "code",
   "execution_count": 49,
   "metadata": {},
   "outputs": [
    {
     "name": "stdout",
     "output_type": "stream",
     "text": [
      "4999/4999 [==============================] - 0s 49us/step\n",
      "loss= 0.05535803940635272\n",
      "accuracy= 0.9791958391797568\n"
     ]
    }
   ],
   "source": [
    "score = model.evaluate(X_test, y_test)\n",
    "print('loss=', score[0])\n",
    "print('accuracy=', score[1])"
   ]
  }
 ],
 "metadata": {
  "kernelspec": {
   "display_name": "Python 3",
   "language": "python",
   "name": "python3"
  },
  "language_info": {
   "codemirror_mode": {
    "name": "ipython",
    "version": 3
   },
   "file_extension": ".py",
   "mimetype": "text/x-python",
   "name": "python",
   "nbconvert_exporter": "python",
   "pygments_lexer": "ipython3",
   "version": "3.6.5"
  }
 },
 "nbformat": 4,
 "nbformat_minor": 2
}
