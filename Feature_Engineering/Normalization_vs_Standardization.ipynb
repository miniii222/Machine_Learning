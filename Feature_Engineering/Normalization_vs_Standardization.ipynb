{
 "cells": [
  {
   "cell_type": "markdown",
   "metadata": {},
   "source": [
    "# Why Scaling\n",
    "대부분의 경우 데이터에 크기, 단위 및 범위가 매우 다양한 feature들이 포함하게 된다. 대부분의 알고리즘들은 Euclidean거리를 사용하기 때문에 문제가 될 수 있다. 알고리즘들은 단위를 무시하고, 각각의 값들의 크기만 고려하기 때문이다. 따라서, 모든 피쳐들을 동일한 수준으로 가져와야 한다.\n",
    "\n",
    "# How Scaling\n",
    "1. Standardization\n",
    "    - feature들을 평균=0이고, 표준편차=1로 만들어준다.\n",
    "$$ x-\\bar{x} \\over \\sigma$$\n",
    "    \n",
    "2. Normalization\n",
    "    - 평균이 0이고, -1과 1사이로\n",
    "$$ x-mean(x) \\over max(x) - min(x)$$\n",
    "\n",
    "3. Min-MAx Scaling\n",
    "    - 0과 1사이의 값으로\n",
    "$$ x - min(x) \\over max(x) - min(x) $$\n",
    "\n",
    "4. Unit Vector\n",
    "$$ x \\over \\lVert x \\rVert $$\n",
    "\n",
    "# When to Scale\n",
    "- KNN, PCA 필수!\n",
    "- gradient descent를 빠르게 계산할 수 있게 해준다.\n",
    "- Tree base model은 거리기반이 아니기 때문에 필요하지 않다.\n",
    "- LDA, Naive Bayes은 피쳐들에 가중치를 주므로 그렇게 필요하지는 않다"
   ]
  },
  {
   "cell_type": "code",
   "execution_count": null,
   "metadata": {},
   "outputs": [],
   "source": []
  }
 ],
 "metadata": {
  "hide_input": false,
  "kernelspec": {
   "display_name": "Python 3",
   "language": "python",
   "name": "python3"
  },
  "language_info": {
   "codemirror_mode": {
    "name": "ipython",
    "version": 3
   },
   "file_extension": ".py",
   "mimetype": "text/x-python",
   "name": "python",
   "nbconvert_exporter": "python",
   "pygments_lexer": "ipython3",
   "version": "3.7.1"
  },
  "toc": {
   "base_numbering": 1,
   "nav_menu": {},
   "number_sections": true,
   "sideBar": true,
   "skip_h1_title": false,
   "title_cell": "Table of Contents",
   "title_sidebar": "Contents",
   "toc_cell": false,
   "toc_position": {},
   "toc_section_display": true,
   "toc_window_display": true
  }
 },
 "nbformat": 4,
 "nbformat_minor": 2
}
